{
 "cells": [
  {
   "cell_type": "code",
   "execution_count": null,
   "metadata": {},
   "outputs": [],
   "source": [
    "import numpy as np \n",
    "import xgboost as xgb\n",
    "from xgboost.plotting import plot_importance\n",
    "\n",
    "import pandas as pd\n",
    "from sklearn.model_selection import train_test_split\n",
    "from sklearn.metrics import confusion_matrix, roc_auc_score, roc_curve, average_precision_score, cohen_kappa_score\n",
    "#from sacred import Experiment\n",
    "#from sacred.observers import MongoObserver\n",
    "#from sacred.observers import FileStorageObserver\n",
    "import matplotlib.pyplot as plt\n",
    "from imblearn.over_sampling import RandomOverSampler \n",
    "from sklearn.utils import shuffle"
   ]
  },
  {
   "cell_type": "code",
   "execution_count": null,
   "metadata": {},
   "outputs": [],
   "source": [
    "#Define training vars\n",
    "basic_vars = ['met_met', 'met_phi',\n",
    "            'lead_lep_pt', 'lead_lep_eta', 'lead_lep_phi','lead_lep_e',\n",
    "             'jet_pt[0]', 'jet_eta[0]', 'jet_phi[0]', 'jet_e[0]','isbtagged_MV2c10_85[0]',\n",
    "             'jet_pt[1]', 'jet_eta[1]', 'jet_phi[1]', 'jet_e[1]','isbtagged_MV2c10_85[1]']"
   ]
  },
  {
   "cell_type": "code",
   "execution_count": null,
   "metadata": {},
   "outputs": [],
   "source": [
    "mva = 'DL1_85'\n",
    "#Define full vars\n",
    "train_vars = ['met_met', 'met_phi',\n",
    "            'lead_lep_pt', 'lead_lep_eta', 'lead_lep_phi','lead_lep_e',\n",
    "             'jet_pt[0]', 'jet_eta[0]', 'jet_phi[0]', 'jet_e[0]', 'jet_isbtagged_%s[0]'%(mva),\n",
    "             'jet_pt[1]', 'jet_eta[1]', 'jet_phi[1]', 'jet_e[1]', 'jet_isbtagged_%s[1]'%(mva),\n",
    "             'HT_all', 'Centrality_all', 'dEtajl_MaxdEta', 'dRbl_MindPhi_%s'%(mva), 'dRbj_MaxdEta_%s'%(mva), 'dRjl_MindR_%s'%(mva),\n",
    "             \"Aplanarity_jets\", 'H0_all', 'nFJets', 'nHFJets', 'nJets', 'nBJets_%s'%(mva), 'HardCentralVeto_%s'%(mva), 'H2_jets', 'VLQMass_Lead_Jet']"
   ]
  },
  {
   "cell_type": "code",
   "execution_count": null,
   "metadata": {},
   "outputs": [],
   "source": [
    "train_vars = ['met_met',\n",
    "            'lead_lep_pt','lead_lep_eta','lead_lep_e',\n",
    "             'jet_pt[0]', 'jet_eta[0]',  'jet_e[0]', 'jet_isbtagged_%s[0]'%(mva),\n",
    "             'jet_pt[1]', 'jet_eta[1]',  'jet_e[1]', 'jet_isbtagged_%s[1]'%(mva),\n",
    "             'HT_all', 'Centrality_all', 'dEtajl_MaxdEta', 'dRbl_MindPhi_%s'%(mva), 'dRbj_MaxdEta_%s'%(mva), 'dRjl_MindR_%s'%(mva),\n",
    "             \"Aplanarity_jets\", 'H0_all', 'nFJets', 'nJets', 'nBJets_%s'%(mva), 'HardCentralVeto_%s'%(mva), 'H2_jets', 'VLQMass_Lead_Jet']"
   ]
  },
  {
   "cell_type": "code",
   "execution_count": null,
   "metadata": {},
   "outputs": [],
   "source": [
    "train_vars2 = ['met_met',\n",
    "            'lead_lep_pt','lead_lep_eta','lead_lep_e',\n",
    "             'jet_pt[0]', 'jet_eta[0]',  'jet_e[0]', 'jet_isbtagged_%s[0]'%(mva),\n",
    "             'jet_pt[1]', 'jet_eta[1]',  'jet_e[1]', 'jet_isbtagged_%s[1]'%(mva),\n",
    "             'HT_all', 'Centrality_all', 'dEtajl_MaxdEta', 'dRbl_MindPhi_%s'%(mva), 'dRbj_MaxdEta_%s'%(mva),\n",
    "             \"Aplanarity_jets\", 'H0_all', 'nFJets', 'nJets', 'nBJets_%s'%(mva), 'HardCentralVeto_%s'%(mva), 'H2_jets', 'VLQMass_Lead_Jet']"
   ]
  },
  {
   "cell_type": "code",
   "execution_count": null,
   "metadata": {},
   "outputs": [],
   "source": [
    "mva = 'DL1_77'\n",
    "full_vars = ['met_met', 'met_phi',\n",
    "                'lead_lep_pt', 'lead_lep_eta', 'lead_lep_phi','lead_lep_e',\n",
    "                 'jet_pt[0]', 'jet_eta[0]', 'jet_phi[0]', 'jet_e[0]','jet_isbtagged_%s[0]'%(mva),\n",
    "                 'jet_pt[1]', 'jet_eta[1]', 'jet_phi[1]', 'jet_e[1]','jet_isbtagged_%s[1]'%(mva),\n",
    "                 'dRbl_MindR_%s'%(mva), \"dPhiMET_LeadBJet_%s\"%(mva), \"dPhiW_LeadB_%s\"%(mva), \"dPhiMETlep\", \"dRjl_MindR\", \"pT_jet3\", \"dRW_slj\",\n",
    "                 \"dPhiMET_SubLeadJet\", 'H0_all', 'HT_all', 'Centrality_all', 'H2_jets', 'weight_normalise',\n",
    "                 'nFJets', 'nFJets40', 'nFJets_fjvt','nFJets_fjvt40', 'nJets', 'nBJets_%s'%(mva), 'HardCentralVeto_%s'%(mva), 'VLQMass_Lead_Jet'] \n",
    "\n",
    "\n",
    "train_vars = ['met_met', \n",
    "                'lead_lep_pt', 'lead_lep_eta',# 'lead_lep_e',\n",
    "                 'jet_pt[0]', 'jet_eta[0]','jet_isbtagged_%s[0]'%(mva),\n",
    "                 'jet_pt[1]', 'jet_eta[1]','jet_isbtagged_%s[1]'%(mva),\n",
    "                 'dRbl_MindR_%s'%(mva), \"dPhiW_LeadB_%s\"%(mva), \"dPhiMETlep\", \"dRjl_MindR\", \"pT_jet3\", \"dRW_slj\",\n",
    "                 \"dPhiMET_SubLeadJet\", 'H0_all', 'HT_all', 'Centrality_all', 'H2_jets', 'weight_normalise', 'LeadFJetPt',\n",
    "                 'nFJets_fjvt', 'nJets', 'nBJets_%s'%(mva), 'HardCentralVeto_%s'%(mva), \n",
    "                 'dPhiLep_LeadB_%s'%(mva), 'dRLep_LeadB_%s'%(mva), 'MindRl_centjet', 'dRW_LeadB_%s'%(mva)]# 'VLQMass_Lead_Jet'] "
   ]
  },
  {
   "cell_type": "code",
   "execution_count": null,
   "metadata": {},
   "outputs": [],
   "source": []
  },
  {
   "cell_type": "code",
   "execution_count": null,
   "metadata": {},
   "outputs": [],
   "source": [
    "#Define training file names\n",
    "data_dir = \"data/\"\n",
    "sgtop_file = data_dir + \"sgtop_train_%s.npy\" %(mva)  \n",
    "ttbar_file = data_dir + \"ttbar_train_%s.npy\" %(mva)   \n",
    "wjets_file = data_dir + \"wjets_train_%s.npy\" %(mva) \n",
    "zjets_file = data_dir + \"zjets_train_%s.npy\" %(mva) \n",
    "sig_file   = data_dir + \"sig_train_%s.npy\" %(mva) "
   ]
  },
  {
   "cell_type": "code",
   "execution_count": null,
   "metadata": {},
   "outputs": [],
   "source": [
    "#Extract training arrays\n",
    "sgtop_arr = np.load(sgtop_file, encoding=\"bytes\")\n",
    "ttbar_arr = np.load(ttbar_file, encoding=\"bytes\")\n",
    "wjets_arr = np.load(wjets_file, encoding=\"bytes\")\n",
    "zjets_arr = np.load(zjets_file, encoding=\"bytes\")\n",
    "\n",
    "sig_arr   = np.load(sig_file, encoding=\"bytes\")"
   ]
  },
  {
   "cell_type": "code",
   "execution_count": null,
   "metadata": {},
   "outputs": [],
   "source": [
    "(len(wjets_arr) + len(sgtop_arr) + len(ttbar_arr))/len(sig_arr)"
   ]
  },
  {
   "cell_type": "code",
   "execution_count": null,
   "metadata": {},
   "outputs": [],
   "source": [
    "#Transform into dataframes\n",
    "sgtop_df = pd.DataFrame(sgtop_arr)\n",
    "ttbar_df = pd.DataFrame(ttbar_arr)\n",
    "wjets_df = pd.DataFrame(wjets_arr)\n",
    "zjets_df = pd.DataFrame(zjets_arr)\n",
    "sig_df = pd.DataFrame(sig_arr)"
   ]
  },
  {
   "cell_type": "code",
   "execution_count": null,
   "metadata": {},
   "outputs": [],
   "source": [
    "#full['weight_normalise'] = full['weight_normalise']"
   ]
  },
  {
   "cell_type": "code",
   "execution_count": null,
   "metadata": {},
   "outputs": [],
   "source": [
    "sgtop_df.columns"
   ]
  },
  {
   "cell_type": "code",
   "execution_count": null,
   "metadata": {},
   "outputs": [],
   "source": [
    "#Label as sig or back\n",
    "sgtop_df['label'] = 0\n",
    "ttbar_df['label'] = 0\n",
    "wjets_df['label'] = 0\n",
    "zjets_df['label'] = 0\n",
    "sig_df['label'] = 1"
   ]
  },
  {
   "cell_type": "code",
   "execution_count": null,
   "metadata": {},
   "outputs": [],
   "source": [
    "#Label as sig or back\n",
    "sgtop_df['weight'] = sgtop_df['weight_normalise']*len(sgtop_df['weight_normalise'])\n",
    "ttbar_df['weight'] = ttbar_df['weight_normalise']*len(ttbar_df['weight_normalise'])\n",
    "wjets_df['weight'] = wjets_df['weight_normalise']*len(wjets_df['weight_normalise'])\n",
    "zjets_df['weight'] = zjets_df['weight_normalise']*len(zjets_df['weight_normalise'])\n",
    "sig_df['weight'] =   sig_df['weight_normalise']*len(sig_df['weight_normalise'])\n",
    "\n"
   ]
  },
  {
   "cell_type": "code",
   "execution_count": null,
   "metadata": {},
   "outputs": [],
   "source": [
    "#Concat arrays, define train and validation sets, create xgb datasets\n",
    "full = pd.concat([sig_df, sgtop_df, ttbar_df, wjets_df, zjets_df])\n"
   ]
  },
  {
   "cell_type": "code",
   "execution_count": null,
   "metadata": {},
   "outputs": [],
   "source": [
    "#wjets_df['weight']"
   ]
  },
  {
   "cell_type": "code",
   "execution_count": null,
   "metadata": {},
   "outputs": [],
   "source": [
    "full.columns = [x.replace('[', '_').replace(']', '') for x in full.columns.values]\n",
    "clean_train_vars = [x.replace('[', '_').replace(']', '') for x in train_vars]"
   ]
  },
  {
   "cell_type": "code",
   "execution_count": null,
   "metadata": {},
   "outputs": [],
   "source": [
    "clean_train_vars = clean_train_vars + ['weight']"
   ]
  },
  {
   "cell_type": "code",
   "execution_count": null,
   "metadata": {},
   "outputs": [],
   "source": [
    "#Select only sig region\n",
    "\n",
    "#Old SR\n",
    "#full = full.query('dRjl_MindR > 2.0 & nFJets40 >= 1 & jet_pt_0 > 350000 & jet_isbtagged_%s_0 == 1 & HardCentralVeto_%s == 0 & met_met > 120000 & abs(dPhibl_MindPhi_%s)>2.5'%(mva,mva,mva))\n",
    "\n",
    "#Upd SR\n",
    "#full = full.query('dRbl_MindR_%s > 2.0 & nFJets_fjvt40 >= 1 & jet_pt_0 > 350000 & jet_isbtagged_%s_0 == 1 & HardCentralVeto_%s == 0 & met_met > 120000'%(mva,mva,mva))\n",
    "\n",
    "#Loose SR\n",
    "#full = full.query('dRbl_MindR_%s > 2.0 & nFJets_fjvt40 >= 1 & met_met > 120000'%(mva))\n"
   ]
  },
  {
   "cell_type": "code",
   "execution_count": null,
   "metadata": {},
   "outputs": [],
   "source": [
    "\n",
    "#full = full.drop(full['neutrino_eta'].idxmax())\n",
    "\n",
    "train, valid = train_test_split(full, test_size=0.2)\n",
    "\n",
    "ros = RandomOverSampler(random_state=42)\n",
    "X_res, y_res = ros.fit_sample(train[clean_train_vars], train['label'])\n",
    "\n",
    "X_res, y_res = shuffle(X_res, y_res)\n",
    "\n",
    "\n",
    "\n"
   ]
  },
  {
   "cell_type": "code",
   "execution_count": null,
   "metadata": {},
   "outputs": [],
   "source": [
    "#test = valid"
   ]
  },
  {
   "cell_type": "code",
   "execution_count": null,
   "metadata": {},
   "outputs": [],
   "source": [
    "res_train = pd.DataFrame(X_res)\n",
    "res_train.columns = clean_train_vars\n",
    "res_train['label'] = y_res"
   ]
  },
  {
   "cell_type": "code",
   "execution_count": null,
   "metadata": {},
   "outputs": [],
   "source": [
    "clean_train_vars.remove('weight')#_normalise')\n",
    "clean_train_vars.remove('weight_normalise')"
   ]
  },
  {
   "cell_type": "code",
   "execution_count": null,
   "metadata": {},
   "outputs": [],
   "source": [
    "dtrain = xgb.DMatrix(res_train[clean_train_vars], label=res_train['label'], weight=res_train['weight'])\n",
    "dvalid = xgb.DMatrix(valid[clean_train_vars], label=valid['label'], weight=res_train['weight'])"
   ]
  },
  {
   "cell_type": "code",
   "execution_count": null,
   "metadata": {},
   "outputs": [],
   "source": [
    "#clean_train_vars"
   ]
  },
  {
   "cell_type": "code",
   "execution_count": null,
   "metadata": {},
   "outputs": [],
   "source": [
    "#Naive training parameters\n",
    "naive_params = {'max_depth':10, \n",
    "                'eta':0.05, \n",
    "                'silent':1, \n",
    "                'objective':'binary:logistic', \n",
    "                'eval_metric' : 'auc', \n",
    "                'tree_method' : 'gpu_hist',#'gpu_hist',\n",
    "               }\n",
    "                #'scale_pos_weight': 190 }"
   ]
  },
  {
   "cell_type": "code",
   "execution_count": null,
   "metadata": {},
   "outputs": [],
   "source": [
    "naive_params = {'eta': 0.03,\n",
    "   'eval_metric': 'auc',\n",
    "   #'gamma': 8.0,\n",
    "   #'max_delta_step': 9,\n",
    "   'max_depth': 6,\n",
    "   #'max_leaves': 230,\n",
    "   #'min_child_weight': 12.0,\n",
    "   'objective': 'binary:logistic',\n",
    "   'random_state': 42,\n",
    "   'silent': 1,\n",
    "   'tree_method': 'hist', \n",
    "    'nthread': 10}"
   ]
  },
  {
   "cell_type": "code",
   "execution_count": null,
   "metadata": {},
   "outputs": [],
   "source": [
    "#sig_df['lead_lep_e']/sig_df['lead_lep_pt']"
   ]
  },
  {
   "cell_type": "code",
   "execution_count": null,
   "metadata": {},
   "outputs": [],
   "source": [
    "#%%time\n",
    "#Train with naive params\n",
    "\n",
    "bst = xgb.train(naive_params,\n",
    "                dtrain,\n",
    "                num_boost_round=5000,\n",
    "                evals=[(dvalid,\"val\")],\n",
    "                early_stopping_rounds=10)"
   ]
  },
  {
   "cell_type": "code",
   "execution_count": null,
   "metadata": {},
   "outputs": [],
   "source": [
    "bst.save_model('011.%s.model'%(mva))\n",
    "#bst.dump_model('dump.%s.raw.txt'%(mva))# dump model with feature mapz"
   ]
  },
  {
   "cell_type": "code",
   "execution_count": null,
   "metadata": {},
   "outputs": [],
   "source": [
    "ax = plot_importance(bst)\n",
    "plt.show()"
   ]
  },
  {
   "cell_type": "code",
   "execution_count": null,
   "metadata": {},
   "outputs": [],
   "source": [
    "sgtop_file_t = data_dir + \"sgtop_test_%s.npy\" %(mva)  \n",
    "ttbar_file_t = data_dir + \"ttbar_test_%s.npy\" %(mva)   \n",
    "zjets_file_t = data_dir + \"zjets_test_%s.npy\" %(mva) \n",
    "wjets_file_t = data_dir + \"wjets_test_%s.npy\" %(mva) \n",
    "sig_file_t   = data_dir + \"sig_test_%s.npy\" %(mva) "
   ]
  },
  {
   "cell_type": "code",
   "execution_count": null,
   "metadata": {},
   "outputs": [],
   "source": [
    "#Extract training arrays\n",
    "sgtop_arr_t = np.load(sgtop_file, encoding=\"bytes\")\n",
    "ttbar_arr_t = np.load(ttbar_file, encoding=\"bytes\")\n",
    "wjets_arr_t = np.load(wjets_file, encoding=\"bytes\")\n",
    "zjets_arr_t = np.load(zjets_file, encoding=\"bytes\")\n",
    "\n",
    "sig_arr_t   = np.load(sig_file, encoding=\"bytes\")"
   ]
  },
  {
   "cell_type": "code",
   "execution_count": null,
   "metadata": {},
   "outputs": [],
   "source": [
    "#Transform into dataframes\n",
    "sgtop_dft = pd.DataFrame(sgtop_arr)\n",
    "ttbar_dft = pd.DataFrame(ttbar_arr)\n",
    "wjets_dft = pd.DataFrame(wjets_arr)\n",
    "zjets_dft = pd.DataFrame(zjets_arr)\n",
    "sig_dft = pd.DataFrame(sig_arr)"
   ]
  },
  {
   "cell_type": "code",
   "execution_count": null,
   "metadata": {},
   "outputs": [],
   "source": [
    "#Label as sig or back\n",
    "sgtop_dft['label'] = 0\n",
    "ttbar_dft['label'] = 0\n",
    "wjets_dft['label'] = 0\n",
    "zjets_dft['label'] = 0\n",
    "\n",
    "sig_dft['label'] = 1"
   ]
  },
  {
   "cell_type": "code",
   "execution_count": null,
   "metadata": {},
   "outputs": [],
   "source": [
    "test = pd.concat([sig_dft, sgtop_dft, ttbar_dft, wjets_dft, zjets_dft])"
   ]
  },
  {
   "cell_type": "code",
   "execution_count": null,
   "metadata": {},
   "outputs": [],
   "source": [
    "test.columns = [x.replace('[', '_').replace(']', '') for x in test.columns.values]\n"
   ]
  },
  {
   "cell_type": "code",
   "execution_count": null,
   "metadata": {},
   "outputs": [],
   "source": [
    "#Old SR\n",
    "#test = test.query('dRjl_MindR > 2.0 & nFJets40 >= 1 & jet_pt_0 > 350000 & jet_isbtagged_%s_0 == 1 & HardCentralVeto_%s == 0 & met_met > 120000 & abs(dPhibl_MindPhi_%s)>2.5'%(mva,mva,mva))\n",
    "\n",
    "#Upd SR\n",
    "#test = test.query('dRbl_MindR_%s > 2.0 & nFJets_fjvt40 >= 1 & jet_pt_0 > 350000 & jet_isbtagged_%s_0 == 1 & HardCentralVeto_%s == 0 & met_met > 120000'%(mva,mva,mva))\n",
    "\n",
    "#Loose SR\n",
    "#test = test.query('dRbl_MindR_%s > 2.0 & nFJets_fjvt40 >= 1  & met_met > 120000'%(mva))"
   ]
  },
  {
   "cell_type": "code",
   "execution_count": null,
   "metadata": {},
   "outputs": [],
   "source": [
    "dtest = xgb.DMatrix(test[clean_train_vars], label=test['label'])"
   ]
  },
  {
   "cell_type": "code",
   "execution_count": null,
   "metadata": {},
   "outputs": [],
   "source": [
    "pred_vals = bst.predict(dtest)\n"
   ]
  },
  {
   "cell_type": "code",
   "execution_count": null,
   "metadata": {},
   "outputs": [],
   "source": [
    "fpr, tpr, _ = roc_curve(dtest.get_label(), pred_vals)\n",
    "roc_auc = roc_auc_score(dtest.get_label(), pred_vals)\n",
    "\n",
    "plt.figure()\n",
    "lw = 2\n",
    "plt.plot(fpr, tpr, color='darkorange',\n",
    "         lw=lw, label='ROC curve (area = %0.2f)' % roc_auc)\n",
    "plt.plot([0, 1], [0, 1], color='navy', lw=lw, linestyle='--')\n",
    "plt.xlim([0.0, 1.0])\n",
    "plt.ylim([0.0, 1.05])\n",
    "plt.xlabel('False Positive Rate')\n",
    "plt.ylabel('True Positive Rate')\n",
    "plt.title('Receiver operating characteristic example')\n",
    "plt.legend(loc=\"lower right\")\n",
    "plt.show()"
   ]
  },
  {
   "cell_type": "code",
   "execution_count": null,
   "metadata": {},
   "outputs": [],
   "source": [
    "pred = np.where(pred_vals > np.mean(0.95), 1, 0)"
   ]
  },
  {
   "cell_type": "code",
   "execution_count": null,
   "metadata": {},
   "outputs": [],
   "source": [
    "confusion_matrix(pred, dtest.get_label())"
   ]
  },
  {
   "cell_type": "code",
   "execution_count": null,
   "metadata": {},
   "outputs": [],
   "source": [
    "average_precision_score(pred, dtest.get_label())\n"
   ]
  },
  {
   "cell_type": "code",
   "execution_count": null,
   "metadata": {},
   "outputs": [],
   "source": [
    "cohen_kappa_score(pred, dtest.get_label())"
   ]
  },
  {
   "cell_type": "code",
   "execution_count": null,
   "metadata": {},
   "outputs": [],
   "source": [
    "roc_auc"
   ]
  },
  {
   "cell_type": "code",
   "execution_count": null,
   "metadata": {},
   "outputs": [],
   "source": [
    "#s/np.sqrt(b)*5/np.sqrt(5)"
   ]
  },
  {
   "cell_type": "code",
   "execution_count": null,
   "metadata": {},
   "outputs": [],
   "source": [
    "np.mean(pred_vals)"
   ]
  },
  {
   "cell_type": "code",
   "execution_count": null,
   "metadata": {},
   "outputs": [],
   "source": [
    "#bst.feature_names"
   ]
  },
  {
   "cell_type": "code",
   "execution_count": null,
   "metadata": {},
   "outputs": [],
   "source": [
    "test['preds']  = pred_vals"
   ]
  },
  {
   "cell_type": "code",
   "execution_count": null,
   "metadata": {},
   "outputs": [],
   "source": [
    "ax = test['preds'][test['label']==1].plot.hist(bins=20, alpha=0.5)\n",
    "ax = test['preds'][test['label']==0].plot.hist(bins=20, alpha=0.5)"
   ]
  },
  {
   "cell_type": "code",
   "execution_count": null,
   "metadata": {},
   "outputs": [],
   "source": [
    "SR = test.query('dRbl_MindR_%s > 2.0 & nFJets >= 1 & jet_pt_0 > 350000 & jet_isbtagged_%s_0 == 1 & HardCentralVeto_%s == 0 & met_met > 120000'%(mva,mva,mva))"
   ]
  },
  {
   "cell_type": "code",
   "execution_count": null,
   "metadata": {},
   "outputs": [],
   "source": [
    "tt_CR = test.query('nFJets >= 1 & jet_pt_0 > 200000 & jet_isbtagged_%s_0 == 1 & HardCentralVeto_%s == 1 & met_met > 120000'%(mva,mva))"
   ]
  },
  {
   "cell_type": "code",
   "execution_count": null,
   "metadata": {},
   "outputs": [],
   "source": [
    "wj_CR = test.query('dRbl_MindR_%s > 2.0 & nBJets_%s == 1 & jet_pt_0 > 250000 & jet_isbtagged_%s_0 == 1 & HardCentralVeto_%s == 0 & met_met > 120000'%(mva,mva,mva,mva))"
   ]
  },
  {
   "cell_type": "code",
   "execution_count": null,
   "metadata": {},
   "outputs": [],
   "source": [
    "ax = SR['preds'][SR['label']==1].plot.hist(bins=20, alpha=0.5)\n",
    "ax = SR['preds'][SR['label']==0].plot.hist(bins=20, alpha=0.5)"
   ]
  },
  {
   "cell_type": "code",
   "execution_count": null,
   "metadata": {},
   "outputs": [],
   "source": [
    "ax = SR['preds'][SR['label']==1].plot.hist(bins=20, alpha=0.5)\n",
    "ax = SR['preds'][SR['label']==0].plot.hist(bins=20, alpha=0.5)"
   ]
  },
  {
   "cell_type": "code",
   "execution_count": null,
   "metadata": {},
   "outputs": [],
   "source": [
    "ax = wj_CR['preds'][wj_CR['label']==1].plot.hist(bins=20, alpha=0.5)\n",
    "ax = wj_CR['preds'][wj_CR['label']==0].plot.hist(bins=20, alpha=0.5)"
   ]
  },
  {
   "cell_type": "code",
   "execution_count": null,
   "metadata": {},
   "outputs": [],
   "source": [
    "ax = tt_CR['preds'][tt_CR['label']==1].plot.hist(bins=20, alpha=0.5)\n",
    "ax = tt_CR['preds'][tt_CR['label']==0].plot.hist(bins=20, alpha=0.5)"
   ]
  },
  {
   "cell_type": "code",
   "execution_count": null,
   "metadata": {},
   "outputs": [],
   "source": [
    "test.columns"
   ]
  },
  {
   "cell_type": "code",
   "execution_count": null,
   "metadata": {},
   "outputs": [],
   "source": []
  },
  {
   "cell_type": "code",
   "execution_count": null,
   "metadata": {},
   "outputs": [],
   "source": []
  },
  {
   "cell_type": "code",
   "execution_count": null,
   "metadata": {},
   "outputs": [],
   "source": []
  },
  {
   "cell_type": "code",
   "execution_count": null,
   "metadata": {},
   "outputs": [],
   "source": []
  }
 ],
 "metadata": {
  "language_info": {
   "name": "python",
   "pygments_lexer": "ipython3"
  }
 },
 "nbformat": 4,
 "nbformat_minor": 2
}
