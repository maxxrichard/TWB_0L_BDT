{
 "cells": [
  {
   "cell_type": "code",
   "execution_count": null,
   "metadata": {},
   "outputs": [],
   "source": [
    "import numpy as np \n",
    "import ROOT\n",
    "from ROOT import TMVA, TFile, TCut\n",
    "from root_numpy.tmva import add_classification_events, evaluate_reader\n",
    "import pandas as pd\n",
    "from sklearn.model_selection import train_test_split\n",
    "from sklearn.metrics import confusion_matrix, roc_auc_score, roc_curve, average_precision_score, cohen_kappa_score\n",
    "from sacred import Experiment\n",
    "from sacred.observers import MongoObserver\n",
    "from sacred.observers import FileStorageObserver\n",
    "import matplotlib.pyplot as plt"
   ]
  },
  {
   "cell_type": "code",
   "execution_count": null,
   "metadata": {},
   "outputs": [],
   "source": [
    "#%jsmva on"
   ]
  },
  {
   "cell_type": "code",
   "execution_count": null,
   "metadata": {},
   "outputs": [],
   "source": [
    "#Define training vars\n",
    "basic_vars = ['met_met', 'met_phi',\n",
    "            'lead_lep_pt', 'lead_lep_eta', 'lead_lep_phi','lead_lep_e',\n",
    "             'jet_pt[0]', 'jet_eta[0]', 'jet_phi[0]', 'jet_e[0]','isbtagged_MV2c10_85[0]',\n",
    "             'jet_pt[1]', 'jet_eta[1]', 'jet_phi[1]', 'jet_e[1]','isbtagged_MV2c10_85[1]']"
   ]
  },
  {
   "cell_type": "code",
   "execution_count": null,
   "metadata": {},
   "outputs": [],
   "source": [
    "#Define full vars\n",
    "train_vars = ['met_met',\n",
    "            'lead_lep_pt', 'lead_lep_eta','lead_lep_e',\n",
    "             'jet_pt[0]', 'jet_eta[0]', 'jet_e[0]','jet_isbtagged_MV2c10_85[0]',\n",
    "             'jet_pt[1]', 'jet_eta[1]', 'jet_e[1]','jet_isbtagged_MV2c10_85[1]', \n",
    "             'HT_all', 'Centrality_all', 'dEtajl_MaxdEta', 'dRbl_MindPhi_MV2c10_85', 'dRbj_MaxdEta_MV2c10_85', 'dRjl_MindR_MV2c10_85',\n",
    "             \"Aplanarity_jets\", 'H0_all', 'nFJets', 'nBJets_MV2c10_85', 'nJets_Pt30', 'nJets_Pt40', 'HardCentralVeto_MV2c10_85', 'H2_jets']"
   ]
  },
  {
   "cell_type": "code",
   "execution_count": null,
   "metadata": {},
   "outputs": [],
   "source": [
    "#Define training file names\n",
    "data_dir = \"data/\"\n",
    "sgtop_file = data_dir + \"sgtop_train.npy\"  \n",
    "ttbar_file = data_dir + \"ttbar_train.npy\"   \n",
    "wjets_file = data_dir + \"wjets_train.npy\" \n",
    "sig_file   = data_dir + \"sig_train.npy\"  "
   ]
  },
  {
   "cell_type": "code",
   "execution_count": null,
   "metadata": {},
   "outputs": [],
   "source": [
    "#Extract training arrays\n",
    "sgtop_arr = np.load(sgtop_file, encoding=\"bytes\")\n",
    "ttbar_arr = np.load(ttbar_file, encoding=\"bytes\")\n",
    "wjets_arr = np.load(wjets_file, encoding=\"bytes\")\n",
    "sig_arr   = np.load(sig_file, encoding=\"bytes\")"
   ]
  },
  {
   "cell_type": "code",
   "execution_count": null,
   "metadata": {},
   "outputs": [],
   "source": [
    "#Transform into dataframes\n",
    "sgtop_df = pd.DataFrame(sgtop_arr)\n",
    "ttbar_df = pd.DataFrame(ttbar_arr)\n",
    "wjets_df = pd.DataFrame(wjets_arr)\n",
    "sig_df = pd.DataFrame(sig_arr)"
   ]
  },
  {
   "cell_type": "code",
   "execution_count": null,
   "metadata": {},
   "outputs": [],
   "source": [
    "#Label as sig or back\n",
    "sgtop_df['label'] = 0\n",
    "ttbar_df['label'] = 0\n",
    "wjets_df['label'] = 0\n",
    "sig_df['label'] = 1"
   ]
  },
  {
   "cell_type": "code",
   "execution_count": null,
   "metadata": {},
   "outputs": [],
   "source": [
    "del sgtop_arr\n",
    "del ttbar_arr\n",
    "del wjets_arr\n",
    "del sig_arr"
   ]
  },
  {
   "cell_type": "code",
   "execution_count": null,
   "metadata": {},
   "outputs": [],
   "source": [
    "#Concat arrays, define train and validation sets, transform to lgb dataset\n",
    "full = pd.concat([sig_df, sgtop_df, ttbar_df, wjets_df])\n",
    "\n",
    "train, valid = train_test_split(full, test_size=0.2)\n",
    "trainlen = len(full['met_met'].values)"
   ]
  },
  {
   "cell_type": "code",
   "execution_count": null,
   "metadata": {},
   "outputs": [],
   "source": [
    "len(sig_df)"
   ]
  },
  {
   "cell_type": "code",
   "execution_count": null,
   "metadata": {},
   "outputs": [],
   "source": [
    "del sgtop_df\n",
    "del ttbar_df\n",
    "del wjets_df\n",
    "del sig_df\n",
    "del full"
   ]
  },
  {
   "cell_type": "code",
   "execution_count": null,
   "metadata": {},
   "outputs": [],
   "source": [
    "len(train_vars)"
   ]
  },
  {
   "cell_type": "code",
   "execution_count": null,
   "metadata": {},
   "outputs": [],
   "source": [
    "test.columns = [x.replace('[', '_').replace(']', '') for x in test.columns.values]"
   ]
  },
  {
   "cell_type": "code",
   "execution_count": null,
   "metadata": {},
   "outputs": [],
   "source": [
    "from root_numpy import array2root"
   ]
  },
  {
   "cell_type": "code",
   "execution_count": null,
   "metadata": {},
   "outputs": [],
   "source": [
    "array2root(test.to_records(), 'cuts.root', 'cuts')"
   ]
  },
  {
   "cell_type": "code",
   "execution_count": null,
   "metadata": {},
   "outputs": [],
   "source": [
    "from root_numpy import root2array"
   ]
  },
  {
   "cell_type": "code",
   "execution_count": null,
   "metadata": {},
   "outputs": [],
   "source": [
    "c = root2array('cuts.root', 'cuts', selection = sel)"
   ]
  },
  {
   "cell_type": "code",
   "execution_count": null,
   "metadata": {},
   "outputs": [],
   "source": [
    "c['label']"
   ]
  },
  {
   "cell_type": "code",
   "execution_count": null,
   "metadata": {},
   "outputs": [],
   "source": [
    "sel = \"dRjl_MindR_MV2c10_85 > 2.0 && nFJets >= 1 && abs(dRbl_MindPhi_MV2c10_85) > 2.5 && jet_pt_0 > 350000 &&  jet_isbtagged_MV2c10_85_0 == 1 && HardCentralVeto_MV2c10_85 == 0 && met_met > 120000\""
   ]
  },
  {
   "cell_type": "code",
   "execution_count": null,
   "metadata": {},
   "outputs": [],
   "source": [
    "o = root2array('tmva_output.root', './TestTree', selection=sel)"
   ]
  },
  {
   "cell_type": "code",
   "execution_count": null,
   "metadata": {},
   "outputs": [],
   "source": [
    "o"
   ]
  },
  {
   "cell_type": "code",
   "execution_count": null,
   "metadata": {},
   "outputs": [],
   "source": [
    "np.sum(o['classID'])/len(o)"
   ]
  },
  {
   "cell_type": "code",
   "execution_count": null,
   "metadata": {},
   "outputs": [],
   "source": [
    "len(test)"
   ]
  },
  {
   "cell_type": "code",
   "execution_count": null,
   "metadata": {},
   "outputs": [],
   "source": [
    "pred = np.where(o['BDT'] > 0.5, 1, 0)"
   ]
  },
  {
   "cell_type": "code",
   "execution_count": null,
   "metadata": {},
   "outputs": [],
   "source": [
    "np.sum(pred)"
   ]
  },
  {
   "cell_type": "code",
   "execution_count": null,
   "metadata": {},
   "outputs": [],
   "source": [
    "rtest = pd.DataFrame(c)#test[pred == 1]\n",
    "s = 36100*np.sum(rtest[rtest['label'] == 1].apply(lambda x : x['weight_normalise']*x['weight_mc']*x['weight_pileup']*x['weight_jvt']*x['weight_leptonSF']*x['weight_bTagSF_MV2c10_85'], axis = 1))\n",
    "b = 36100*np.sum(rtest[rtest['label'] == 0].apply(lambda x : x['weight_normalise']*x['weight_mc']*x['weight_pileup']*x['weight_jvt']*x['weight_leptonSF']*x['weight_bTagSF_MV2c10_85'], axis = 1))"
   ]
  },
  {
   "cell_type": "code",
   "execution_count": null,
   "metadata": {},
   "outputs": [],
   "source": [
    "s/np.sqrt(b)*5/np.sqrt(5)"
   ]
  },
  {
   "cell_type": "code",
   "execution_count": null,
   "metadata": {},
   "outputs": [],
   "source": [
    "#output = TFile('tmva_output.root', 'recreate')\n"
   ]
  },
  {
   "cell_type": "code",
   "execution_count": null,
   "metadata": {},
   "outputs": [],
   "source": [
    "#factory = TMVA.Factory('classifier', output,\n",
    "#                       'AnalysisType=Classification:'\n",
    "#                      '!V:Silent:!DrawProgressBar')"
   ]
  },
  {
   "cell_type": "code",
   "execution_count": null,
   "metadata": {},
   "outputs": [],
   "source": [
    "#data = TMVA.DataLoader('.')"
   ]
  },
  {
   "cell_type": "code",
   "execution_count": null,
   "metadata": {},
   "outputs": [],
   "source": [
    "output = TFile('tmva_output.root', 'recreate')\n",
    "factory = TMVA.Factory('classifier', output,\n",
    "                       'AnalysisType=Classification:'\n",
    "                       '!V:Silent:!DrawProgressBar')\n",
    "data = TMVA.DataLoader('.')\n",
    "clean_train_vars = [x.replace('[', '_').replace(']', '') for x in train_vars]\n",
    "for var in clean_train_vars:\n",
    "    data.AddVariable(var)"
   ]
  },
  {
   "cell_type": "code",
   "execution_count": null,
   "metadata": {},
   "outputs": [],
   "source": [
    "#clean_train_vars = [x.replace('[', '_').replace(']', '') for x in train_vars]"
   ]
  },
  {
   "cell_type": "code",
   "execution_count": null,
   "metadata": {},
   "outputs": [],
   "source": [
    "#for var in clean_train_vars:\n",
    "#    data.AddVariable(var)"
   ]
  },
  {
   "cell_type": "code",
   "execution_count": null,
   "metadata": {},
   "outputs": [],
   "source": [
    "add_classification_events(data, train[train_vars].values, train['label'].values)#, weights=w_train)"
   ]
  },
  {
   "cell_type": "code",
   "execution_count": null,
   "metadata": {},
   "outputs": [],
   "source": [
    "del train"
   ]
  },
  {
   "cell_type": "code",
   "execution_count": null,
   "metadata": {},
   "outputs": [],
   "source": [
    "sgtop_file = data_dir + \"sgtop_test.npy\"  \n",
    "ttbar_file = data_dir + \"ttbar_test.npy\"   \n",
    "wjets_file = data_dir + \"wjets_test.npy\" \n",
    "sig_file   = data_dir + \"sig_test.npy\"  "
   ]
  },
  {
   "cell_type": "code",
   "execution_count": null,
   "metadata": {},
   "outputs": [],
   "source": [
    "#Extract training arrays\n",
    "sgtop_arr = np.load(sgtop_file, encoding=\"bytes\")\n",
    "ttbar_arr = np.load(ttbar_file, encoding=\"bytes\")\n",
    "wjets_arr = np.load(wjets_file, encoding=\"bytes\")\n",
    "sig_arr   = np.load(sig_file, encoding=\"bytes\")"
   ]
  },
  {
   "cell_type": "code",
   "execution_count": null,
   "metadata": {},
   "outputs": [],
   "source": [
    "#Transform into dataframes\n",
    "sgtop_df = pd.DataFrame(sgtop_arr)\n",
    "ttbar_df = pd.DataFrame(ttbar_arr)\n",
    "wjets_df = pd.DataFrame(wjets_arr)\n",
    "sig_df = pd.DataFrame(sig_arr)"
   ]
  },
  {
   "cell_type": "code",
   "execution_count": null,
   "metadata": {},
   "outputs": [],
   "source": [
    "#Label as sig or back\n",
    "sgtop_df['label'] = 0\n",
    "ttbar_df['label'] = 0\n",
    "wjets_df['label'] = 0\n",
    "sig_df['label'] = 1"
   ]
  },
  {
   "cell_type": "code",
   "execution_count": null,
   "metadata": {},
   "outputs": [],
   "source": [
    "test = pd.concat([sig_df, sgtop_df, ttbar_df, wjets_df])\n",
    "testlen = len(test)"
   ]
  },
  {
   "cell_type": "code",
   "execution_count": null,
   "metadata": {},
   "outputs": [],
   "source": [
    "del sgtop_arr\n",
    "del ttbar_arr\n",
    "del wjets_arr\n",
    "del sig_arr"
   ]
  },
  {
   "cell_type": "code",
   "execution_count": null,
   "metadata": {},
   "outputs": [],
   "source": [
    "del sgtop_df\n",
    "del ttbar_df\n",
    "del wjets_df\n",
    "del sig_df"
   ]
  },
  {
   "cell_type": "code",
   "execution_count": null,
   "metadata": {},
   "outputs": [],
   "source": [
    "testlen + trainlen"
   ]
  },
  {
   "cell_type": "code",
   "execution_count": null,
   "metadata": {},
   "outputs": [],
   "source": [
    "add_classification_events(data, test[train_vars].values, test['label'].values, test=True)#, weights=w_train)"
   ]
  },
  {
   "cell_type": "code",
   "execution_count": null,
   "metadata": {},
   "outputs": [],
   "source": [
    "del test"
   ]
  },
  {
   "cell_type": "code",
   "execution_count": null,
   "metadata": {},
   "outputs": [],
   "source": [
    "# The following line is necessary if events have been added individually:\n",
    "data.PrepareTrainingAndTestTree(TCut('1'), 'NormMode=EqualNumEvents')\n"
   ]
  },
  {
   "cell_type": "code",
   "execution_count": null,
   "metadata": {},
   "outputs": [],
   "source": [
    "#params = \"!V:NTrees=200:MinNodeSize=2.5%:MaxDepth=2:BoostType=AdaBoost:AdaBoostBeta=0.5:UseBaggedBoost:BaggedSampleFraction=0.5:SeparationType=GiniIndex:nCuts=20\""
   ]
  },
  {
   "cell_type": "code",
   "execution_count": null,
   "metadata": {},
   "outputs": [],
   "source": [
    "#factory.BookMethod(data, TMVA.Types.kBDT, \"BDT\",\n",
    "#                   params );\n",
    "\n"
   ]
  },
  {
   "cell_type": "code",
   "execution_count": null,
   "metadata": {},
   "outputs": [],
   "source": [
    "#factory.BookMethod( data, TMVA.Types.kBDT, \"BDT\",\n",
    "#   H=False, V=False, NTrees=10, MinNodeSize=\"2.5%\", MaxDepth=3, BoostType=\"AdaBoost\", AdaBoostBeta=0.5,\n",
    "#                  UseBaggedBoost=True, BaggedSampleFraction=0.5, SeparationType=\"GiniIndex\", nCuts=20, SigToBkgFraction=10)\n"
   ]
  },
  {
   "cell_type": "code",
   "execution_count": null,
   "metadata": {},
   "outputs": [],
   "source": [
    "factory.BookMethod( data, TMVA.Types.kBDT, \"BDT\",\n",
    "   \"!H:V:MaxDepth=5:BoostType=AdaBoost:AdaBoostBeta=0.05:PruningValFraction=0.1\")"
   ]
  },
  {
   "cell_type": "code",
   "execution_count": null,
   "metadata": {},
   "outputs": [],
   "source": [
    "%%time \n",
    "factory.TrainAllMethods()"
   ]
  },
  {
   "cell_type": "code",
   "execution_count": null,
   "metadata": {},
   "outputs": [],
   "source": []
  },
  {
   "cell_type": "code",
   "execution_count": null,
   "metadata": {},
   "outputs": [],
   "source": [
    "factory.TestAllMethods()\n"
   ]
  },
  {
   "cell_type": "code",
   "execution_count": null,
   "metadata": {},
   "outputs": [],
   "source": [
    "factory.EvaluateAllMethods()"
   ]
  },
  {
   "cell_type": "code",
   "execution_count": null,
   "metadata": {},
   "outputs": [],
   "source": [
    "factory.DrawROCCurve(data)"
   ]
  },
  {
   "cell_type": "code",
   "execution_count": null,
   "metadata": {},
   "outputs": [],
   "source": [
    "#factory.DrawCutEfficiencies(data, \"BDT\")"
   ]
  },
  {
   "cell_type": "code",
   "execution_count": null,
   "metadata": {},
   "outputs": [],
   "source": []
  },
  {
   "cell_type": "code",
   "execution_count": null,
   "metadata": {},
   "outputs": [],
   "source": [
    "factory.EvaluateAllMethods()"
   ]
  },
  {
   "cell_type": "code",
   "execution_count": null,
   "metadata": {},
   "outputs": [],
   "source": [
    "\n",
    "\n",
    "fpr, tpr, _ = roc_curve(test['label'], pred_vals)\n",
    "roc_auc = roc_auc_score(test['label'], pred_vals)\n",
    "\n",
    "plt.figure()\n",
    "lw = 2\n",
    "plt.plot(fpr, tpr, color='darkorange',\n",
    "         lw=lw, label='ROC curve (area = %0.2f)' % roc_auc)\n",
    "plt.plot([0, 1], [0, 1], color='navy', lw=lw, linestyle='--')\n",
    "plt.xlim([0.0, 1.0])\n",
    "plt.ylim([0.0, 1.05])\n",
    "plt.xlabel('False Positive Rate')\n",
    "plt.ylabel('True Positive Rate')\n",
    "plt.title('Receiver operating characteristic example')\n",
    "plt.legend(loc=\"lower right\")\n",
    "plt.show()"
   ]
  },
  {
   "cell_type": "code",
   "execution_count": null,
   "metadata": {},
   "outputs": [],
   "source": [
    "pred = np.where(pred_vals > np.mean(_), 1, 0)"
   ]
  },
  {
   "cell_type": "code",
   "execution_count": null,
   "metadata": {},
   "outputs": [],
   "source": [
    "confusion_matrix(pred, test['label'])"
   ]
  },
  {
   "cell_type": "code",
   "execution_count": null,
   "metadata": {},
   "outputs": [],
   "source": [
    "average_precision_score(pred, test['label'])\n"
   ]
  },
  {
   "cell_type": "code",
   "execution_count": null,
   "metadata": {},
   "outputs": [],
   "source": [
    "cohen_kappa_score(pred, test['label'])"
   ]
  },
  {
   "cell_type": "code",
   "execution_count": null,
   "metadata": {},
   "outputs": [],
   "source": [
    "roc_auc"
   ]
  },
  {
   "cell_type": "code",
   "execution_count": null,
   "metadata": {},
   "outputs": [],
   "source": []
  }
 ],
 "metadata": {
  "language_info": {
   "name": "python",
   "pygments_lexer": "ipython3"
  }
 },
 "nbformat": 4,
 "nbformat_minor": 2
}
